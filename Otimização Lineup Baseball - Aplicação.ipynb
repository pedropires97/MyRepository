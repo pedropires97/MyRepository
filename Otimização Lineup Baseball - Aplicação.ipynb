{
 "cells": [
  {
   "cell_type": "markdown",
   "metadata": {},
   "source": [
    "### Inicialização"
   ]
  },
  {
   "cell_type": "code",
   "execution_count": null,
   "metadata": {},
   "outputs": [],
   "source": [
    "# Pacotes\n",
    "\n",
    "import pandas as pd\n",
    "import numpy as np\n",
    "import random"
   ]
  },
  {
   "cell_type": "code",
   "execution_count": null,
   "metadata": {},
   "outputs": [],
   "source": [
    "# Leitura das planilhas\n",
    "\n",
    "lineup = pd.read_excel('lineup_aplicacao.xlsx', sheet_name='Team')\n",
    "status = pd.read_excel('status.xlsx', dtype='str')"
   ]
  },
  {
   "cell_type": "markdown",
   "metadata": {},
   "source": [
    "### Definição das funções"
   ]
  },
  {
   "cell_type": "code",
   "execution_count": null,
   "metadata": {},
   "outputs": [],
   "source": [
    "# Função para criar as colunas necessárias\n",
    "\n",
    "def f_cria_variaveis(lineup):\n",
    "    \n",
    "    lineup['P_S']   = lineup['S']/lineup['PA']\n",
    "    lineup['P_D']   = lineup['D']/lineup['PA']\n",
    "    lineup['P_T']   = lineup['T']/lineup['PA']\n",
    "    lineup['P_HR']  = lineup['HR']/lineup['PA']\n",
    "    lineup['P_BB']  = lineup['BB']/lineup['PA']\n",
    "    lineup['P_HBP'] = lineup['HBP']/lineup['PA']\n",
    "    lineup['P_IBB'] = lineup['IBB']/lineup['PA']\n",
    "    lineup['P_SO']  = lineup['SO']/lineup['PA']\n",
    "    lineup['P_OUT'] = lineup['OUT']/lineup['PA']\n",
    "    lineup['P_GDP'] = lineup['GDP']/lineup['PA']\n",
    "    lineup['P_SH']  = lineup['SH']/lineup['PA']\n",
    "    lineup['P_SF']  = lineup['SF']/lineup['PA']\n",
    "    \n",
    "    lineup = lineup[['INDEX_AUX', 'INDEX_FIXO', 'P_S', 'P_D', 'P_T', 'P_HR', 'P_BB', 'P_HBP', 'P_IBB', 'P_SO', 'P_OUT', 'P_GDP', 'P_SH', 'P_SF']].copy()\n",
    "    \n",
    "    return lineup"
   ]
  },
  {
   "cell_type": "code",
   "execution_count": null,
   "metadata": {},
   "outputs": [],
   "source": [
    "# Função para simular uma partida\n",
    "\n",
    "def f_simula_partida(lineup):\n",
    "    \n",
    "    # Inicializando o INDEX_FIXO\n",
    "    lineup['INDEX_FIXO'] = range(1, 10)\n",
    "    \n",
    "    # Parametros iniciais\n",
    "    pa_outcomes = ['S', 'D', 'T', 'HR', 'BB', 'HBP', 'IBB', 'SO', 'OUT', 'GDP', 'SH', 'SF']\n",
    "\n",
    "    outs = 0\n",
    "    base1 = 0\n",
    "    base2 = 0\n",
    "    base3 = 0\n",
    "    home_plate = 0\n",
    "    runs = 0\n",
    "    player = 1\n",
    "    inn = 1\n",
    "    \n",
    "    status_atual = str(outs) + str(base1) + str(base2) + str(base3) + str(home_plate)\n",
    "    \n",
    "    # Pega o parametro inicial e atualiza ele de acordo com o outcome da aparicao no bastao\n",
    "    while inn <= 9:\n",
    "  \n",
    "        #print(\"inn: \", inn)\n",
    "        #print(\"player: \", player)\n",
    "        #print(\"status_atual: \", status_atual)\n",
    "        \n",
    "        prob_pa_outcomes = lineup[lineup['INDEX_FIXO'] == player][['P_S', 'P_D', 'P_T', 'P_HR', 'P_BB', 'P_HBP', 'P_IBB', 'P_SO', 'P_OUT', 'P_GDP', 'P_SH', 'P_SF']].copy()\n",
    "        prob_pa_outcomes = prob_pa_outcomes.iloc[0].tolist().copy()\n",
    "        pa_outcome = random.choices(pa_outcomes, prob_pa_outcomes)[0]\n",
    "        #print(\"pa_outcome: \", pa_outcome)\n",
    "        \n",
    "        status_pos = status[status['STATUS'] == status_atual][pa_outcome].tolist()[0]\n",
    "        #print(\"status_pos: \", status_pos)\n",
    "        \n",
    "        outs = int(status_pos[0])\n",
    "        base1 = int(status_pos[1])\n",
    "        base2 = int(status_pos[2])\n",
    "        base3 = int(status_pos[3])\n",
    "        home_plate = int(status_pos[4])\n",
    "        \n",
    "        runs = runs + int(home_plate)\n",
    "        home_plate = 0\n",
    "        if outs == 3:\n",
    "            outs = 0; inn = inn + 1; base1 = 0; base2 = 0; base3 = 0\n",
    "        player = player + 1\n",
    "        if player == 10:\n",
    "            player = 1\n",
    "        \n",
    "        #print(\"outs: \", outs)\n",
    "        #print(\"runs: \", runs)\n",
    "        #print(\"-------------------------------\")\n",
    "        \n",
    "        status_atual = str(outs) + str(base1) + str(base2) + str(base3) + str(home_plate)\n",
    "    \n",
    "    return runs"
   ]
  },
  {
   "cell_type": "code",
   "execution_count": null,
   "metadata": {},
   "outputs": [],
   "source": [
    "# Função para simular várias partidas e armazenar o resultado\n",
    "\n",
    "def f_simula_temporada(lineup, games):\n",
    "\n",
    "    runs_game = [-1] * games\n",
    "\n",
    "    # Roda a simulacao de uma partida varias vezes\n",
    "    for i in range(games):\n",
    "        runs_game[i] = f_simula_partida(lineup)\n",
    "    \n",
    "    #print(\"Partidas: \", games)\n",
    "    #print(\"Total de corridas marcadas: \", round(sum(runs_game), 2))\n",
    "    #print(\"Media de corridas marcadas: \", round(np.mean(runs_game), 2))\n",
    "    #print(\"Desvio padrão das corridas marcadas: \", round(np.std(runs_game), 2))\n",
    "    #print(\"\")\n",
    "    \n",
    "    return np.mean(runs_game)"
   ]
  },
  {
   "cell_type": "code",
   "execution_count": null,
   "metadata": {},
   "outputs": [],
   "source": [
    "# Função para reordenar o lineup todo, aleatoriamente\n",
    "\n",
    "def f_reordena_lineup_full(lineup_original, seed):\n",
    "    \n",
    "    lineup_reordenado = lineup_original.sample(frac=1, random_state=seed)\n",
    "    return lineup_reordenado"
   ]
  },
  {
   "cell_type": "code",
   "execution_count": null,
   "metadata": {},
   "outputs": [],
   "source": [
    "# Função para reordenar o lineup, mudando k linhas, aleatoriamente\n",
    "\n",
    "def f_reordena_lineup_k(lineup_original, index_col, k):\n",
    "    \n",
    "    indices_para_trocar = random.sample(lineup_original.index.tolist(), k)\n",
    "    indices_para_trocar_pos = indices_para_trocar[1:] + indices_para_trocar[:1]\n",
    "    \n",
    "    lineup_reordenado = lineup_original.copy()\n",
    "    \n",
    "    for i in range(k):\n",
    "        lineup_reordenado.loc[indices_para_trocar[i]] = lineup_original.loc[indices_para_trocar_pos[i]]\n",
    "    \n",
    "    index_reordenado = lineup_reordenado[index_col]\n",
    "    \n",
    "    return index_reordenado, lineup_reordenado"
   ]
  },
  {
   "cell_type": "code",
   "execution_count": null,
   "metadata": {},
   "outputs": [],
   "source": [
    "# Funcao que roda o otimizador k-opt swap\n",
    "\n",
    "def f_otimiza_lineup(lineup, qtd_max_parada):\n",
    "\n",
    "    qtd_parada = 1\n",
    "    qtd_iteracoes = 1\n",
    "    melhor_lineup = lineup.copy()\n",
    "    runs_game_melhor_lineup = f_simula_temporada(melhor_lineup, 162)\n",
    "    \n",
    "    print(\"Média corridas lineup original: \", round(runs_game_melhor_lineup, 4))\n",
    "    \n",
    "    while qtd_parada <= qtd_max_parada:\n",
    "        \n",
    "        k = random.choice([2, 3])\n",
    "        \n",
    "        index_reordenado, lineup_proposto = f_reordena_lineup_k(melhor_lineup, 'INDEX_AUX', k)\n",
    "        \n",
    "        runs_game_lineup_proposto = f_simula_temporada(lineup_proposto, 162)\n",
    "        print(\"\\n\")\n",
    "        print(\"Iteração: \", qtd_iteracoes)\n",
    "        print(\"Critério de parada: \", qtd_parada, \" de \", qtd_max_parada)\n",
    "        print(\"Média corridas lineup proposto: \", round(runs_game_lineup_proposto, 4))\n",
    "        \n",
    "        qtd_parada += 1\n",
    "        qtd_iteracoes += 1\n",
    "        \n",
    "        if runs_game_lineup_proposto > runs_game_melhor_lineup:\n",
    "            runs_game_melhor_lineup = runs_game_lineup_proposto\n",
    "            melhor_lineup = lineup_proposto\n",
    "            ordenacao_melhor_lineup = melhor_lineup['INDEX_AUX']\n",
    "            qtd_parada = 1\n",
    "            print('Achou uma solução melhor!')\n",
    "            print(index_reordenado)\n",
    "            \n",
    "    return runs_game_melhor_lineup, ordenacao_melhor_lineup"
   ]
  },
  {
   "cell_type": "markdown",
   "metadata": {},
   "source": [
    "### Aplicação do simulador"
   ]
  },
  {
   "cell_type": "code",
   "execution_count": null,
   "metadata": {},
   "outputs": [],
   "source": [
    "# Cria colunas necessárias\n",
    "\n",
    "lineup = f_cria_variaveis(lineup)"
   ]
  },
  {
   "cell_type": "code",
   "execution_count": null,
   "metadata": {},
   "outputs": [],
   "source": [
    "# Simula uma temporada\n",
    "\n",
    "random.seed(12345)\n",
    "\n",
    "f_simula_temporada(lineup, 162)"
   ]
  },
  {
   "cell_type": "code",
   "execution_count": null,
   "metadata": {},
   "outputs": [],
   "source": [
    "# Aplicação do otimizador\n",
    "\n",
    "random.seed(12345)\n",
    "\n",
    "runs_game_melhor_lineup, ordenacao_melhor_lineup = f_otimiza_lineup(lineup, 100)"
   ]
  }
 ],
 "metadata": {
  "kernelspec": {
   "display_name": "Python 3 (ipykernel)",
   "language": "python",
   "name": "python3"
  },
  "language_info": {
   "codemirror_mode": {
    "name": "ipython",
    "version": 3
   },
   "file_extension": ".py",
   "mimetype": "text/x-python",
   "name": "python",
   "nbconvert_exporter": "python",
   "pygments_lexer": "ipython3",
   "version": "3.11.3"
  }
 },
 "nbformat": 4,
 "nbformat_minor": 2
}
